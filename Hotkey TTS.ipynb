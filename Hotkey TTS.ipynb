{
 "cells": [
  {
   "cell_type": "code",
   "execution_count": 1,
   "id": "02d800de",
   "metadata": {},
   "outputs": [],
   "source": [
    "# TTS and audio imports\n",
    "from TTS.api import TTS\n",
    "from pydub import AudioSegment\n",
    "# import wave\n",
    "import simpleaudio as sa\n",
    "import librosa\n",
    "import pyrubberband\n",
    "import soundfile as sf\n",
    "\n",
    "# Progress bar imports\n",
    "from tqdm.auto import tqdm\n",
    "\n",
    "# GUI, keyboard and clipboard imports\n",
    "import pyautogui as pya\n",
    "import pyperclip\n",
    "from pynput import keyboard\n",
    "from pynput import mouse\n",
    "\n",
    "# System imports\n",
    "from sys import platform\n",
    "import time\n",
    "import threading\n",
    "import textwrap\n",
    "import re\n",
    "\n",
    "# Notebook imports\n",
    "from IPython.utils import io\n",
    "from IPython.display import clear_output\n",
    "from IPython import display\n",
    "from ipywidgets import Output\n",
    "\n",
    "# GUI imports\n",
    "import tkinter as tk\n",
    "from tkinter import ttk\n",
    "from tkinter import font"
   ]
  },
  {
   "cell_type": "code",
   "execution_count": 2,
   "id": "a3dfcaf3",
   "metadata": {},
   "outputs": [
    {
     "data": {
      "text/plain": [
       "0.0"
      ]
     },
     "execution_count": 2,
     "metadata": {},
     "output_type": "execute_result"
    }
   ],
   "source": [
    "0/1"
   ]
  },
  {
   "cell_type": "code",
   "execution_count": 3,
   "id": "6940704f",
   "metadata": {},
   "outputs": [],
   "source": [
    "\n",
    "\n",
    "        \n",
    "def update_tk_bar(token,token_id,total_tokens):\n",
    "#     canvas.itemconfig(text_id, text=token)\n",
    "    update_text(token)\n",
    "    canvas.configure(scrollregion=canvas.bbox('all'))\n",
    "    progressbar['value'] = round((token_id/total_tokens)*100)\n",
    "    root.update()\n",
    "        \n",
    "\n",
    "def update_text(text):\n",
    "    canvas.itemconfig(text_id, text=text, width=canvas.winfo_width()-20)\n",
    "    \n",
    "# function to update the window position based on mouse location\n",
    "def move_window(event=None):\n",
    "    x, y = root.winfo_pointerxy()\n",
    "    root.geometry(f\"+{x}+{y}\")\n",
    "\n",
    "def make_small():\n",
    "    root.geometry(\"300x20\")\n",
    "    \n",
    "    \n",
    "def finish():\n",
    "    make_small()\n",
    "    \n",
    "def make_big():\n",
    "    root.geometry(\"300x150\")\n",
    "    \n",
    "root = tk.Tk()\n",
    "root.title(\"Reader\")\n",
    "make_small()\n",
    "root.wm_attributes(\"-topmost\", 1)\n",
    "root.resizable(0, 0)\n",
    "\n",
    "\n",
    "progressbar = ttk.Progressbar(root, orient='horizontal', length=300, mode='determinate')\n",
    "progressbar.pack(pady=0)\n",
    "\n",
    "\n",
    "canvas = tk.Canvas(root, highlightthickness=0)\n",
    "canvas.pack(fill='both', expand=True)\n",
    "\n",
    "text_font = font.Font(family='Arial', size=12)\n",
    "text = \"\"\n",
    "text_id = canvas.create_text(10, 10, text=text, font=text_font, anchor='nw', width=canvas.winfo_width()-20)\n",
    "\n",
    "canvas.configure(scrollregion=canvas.bbox('all'))\n",
    "\n"
   ]
  },
  {
   "cell_type": "code",
   "execution_count": null,
   "id": "dc5e0313",
   "metadata": {},
   "outputs": [],
   "source": []
  },
  {
   "cell_type": "code",
   "execution_count": null,
   "id": "2d7d528e",
   "metadata": {},
   "outputs": [],
   "source": []
  },
  {
   "cell_type": "code",
   "execution_count": null,
   "id": "9e5d697a",
   "metadata": {},
   "outputs": [],
   "source": []
  },
  {
   "cell_type": "code",
   "execution_count": 4,
   "id": "8ce86f18",
   "metadata": {},
   "outputs": [],
   "source": [
    "# TTS.list_models()[8]"
   ]
  },
  {
   "cell_type": "code",
   "execution_count": 5,
   "id": "b8f0a49b",
   "metadata": {},
   "outputs": [],
   "source": [
    "# remove urls from input text?\n",
    "remove_urls = True\n",
    "use_gpu = False"
   ]
  },
  {
   "cell_type": "code",
   "execution_count": 6,
   "id": "56a31112",
   "metadata": {
    "scrolled": true
   },
   "outputs": [
    {
     "name": "stdout",
     "output_type": "stream",
     "text": [
      " > tts_models/en/ljspeech/tacotron2-DDC_ph is already downloaded.\n",
      " > vocoder_models/en/ljspeech/univnet is already downloaded.\n",
      " > Using model: Tacotron2\n",
      " > Setting up Audio Processor...\n",
      " | > sample_rate:22050\n",
      " | > resample:False\n",
      " | > num_mels:80\n",
      " | > log_func:np.log10\n",
      " | > min_level_db:-100\n",
      " | > frame_shift_ms:None\n",
      " | > frame_length_ms:None\n",
      " | > ref_level_db:20\n",
      " | > fft_size:1024\n",
      " | > power:1.5\n",
      " | > preemphasis:0.0\n",
      " | > griffin_lim_iters:60\n",
      " | > signal_norm:True\n",
      " | > symmetric_norm:True\n",
      " | > mel_fmin:50.0\n",
      " | > mel_fmax:7600.0\n",
      " | > pitch_fmin:0.0\n",
      " | > pitch_fmax:640.0\n",
      " | > spec_gain:1.0\n",
      " | > stft_pad_mode:reflect\n",
      " | > max_norm:4.0\n",
      " | > clip_norm:True\n",
      " | > do_trim_silence:True\n",
      " | > trim_db:60\n",
      " | > do_sound_norm:False\n",
      " | > do_amp_to_db_linear:True\n",
      " | > do_amp_to_db_mel:True\n",
      " | > do_rms_norm:False\n",
      " | > db_level:None\n",
      " | > stats_path:/home/nick/.local/share/tts/tts_models--en--ljspeech--tacotron2-DDC_ph/scale_stats.npy\n",
      " | > base:10\n",
      " | > hop_length:256\n",
      " | > win_length:1024\n",
      " > Model's reduction rate `r` is set to: 2\n",
      " > Vocoder Model: univnet\n",
      " > Setting up Audio Processor...\n",
      " | > sample_rate:22050\n",
      " | > resample:False\n",
      " | > num_mels:80\n",
      " | > log_func:np.log10\n",
      " | > min_level_db:-100\n",
      " | > frame_shift_ms:None\n",
      " | > frame_length_ms:None\n",
      " | > ref_level_db:20\n",
      " | > fft_size:1024\n",
      " | > power:1.5\n",
      " | > preemphasis:0.0\n",
      " | > griffin_lim_iters:60\n",
      " | > signal_norm:True\n",
      " | > symmetric_norm:True\n",
      " | > mel_fmin:50.0\n",
      " | > mel_fmax:7600.0\n",
      " | > pitch_fmin:1.0\n",
      " | > pitch_fmax:640.0\n",
      " | > spec_gain:1.0\n",
      " | > stft_pad_mode:reflect\n",
      " | > max_norm:4.0\n",
      " | > clip_norm:True\n",
      " | > do_trim_silence:True\n",
      " | > trim_db:60\n",
      " | > do_sound_norm:False\n",
      " | > do_amp_to_db_linear:True\n",
      " | > do_amp_to_db_mel:True\n",
      " | > do_rms_norm:False\n",
      " | > db_level:None\n",
      " | > stats_path:/home/nick/.local/share/tts/vocoder_models--en--ljspeech--univnet/scale_stats.npy\n",
      " | > base:10\n",
      " | > hop_length:256\n",
      " | > win_length:1024\n",
      " > Generator Model: univnet_generator\n",
      " > Discriminator Model: univnet_discriminator\n"
     ]
    }
   ],
   "source": [
    "# load model on GPU if possible if not CPU\n",
    "if use_gpu:\n",
    "    tts = TTS('tts_models/en/ljspeech/tacotron2-DDC_ph',gpu=True)\n",
    "else:\n",
    "    tts = TTS('tts_models/en/ljspeech/tacotron2-DDC_ph')"
   ]
  },
  {
   "cell_type": "code",
   "execution_count": 7,
   "id": "d03cbc91",
   "metadata": {},
   "outputs": [],
   "source": [
    "def split_text(input_text, max_length):\n",
    "    # remove urls if flag is set\n",
    "    if remove_urls:\n",
    "        input_text = re.sub(r'https?:\\/\\/[\\S]+', '', input_text)\n",
    "    \n",
    "#     input_text = re.sub('\\.+', '.', input_text)\n",
    "        \n",
    "    # split text on periods and commas\n",
    "#     rm_list = ['”','“','(',')','…']\n",
    "    \n",
    "#     strip non alphanumeric\n",
    "    input_text = re.sub(r'[^\\w\\s.,!?-]', '', input_text)\n",
    "\n",
    "#     for item in rm_list:\n",
    "#         input_text = input_text.replace(item,'')\n",
    "\n",
    "    \n",
    "    smaller_chunks = re.split(r'[.,:;_]', input_text)\n",
    "    \n",
    "    # apply textwrap.wrap function to each chunk\n",
    "    smaller_chunks = [textwrap.wrap(chunk, max_length, break_on_hyphens=True, break_long_words=True) for chunk in smaller_chunks]\n",
    "    \n",
    "    # remove leading whitespace\n",
    "    smaller_chunks = [item.lstrip() + (item[-1] not in '.,' and '. ' or ' ') for sublist in smaller_chunks for item in sublist] \n",
    "    \n",
    "    # return list of smaller chunks\n",
    "    return smaller_chunks\n"
   ]
  },
  {
   "cell_type": "code",
   "execution_count": 8,
   "id": "62c44fe6",
   "metadata": {},
   "outputs": [],
   "source": [
    "# Generate an audio file for the specified text and save it to the specified file\n",
    "def run_tts(token,filename):\n",
    "    \n",
    "#     use io.capture to not print text from TTS\n",
    "    with io.capture_output() as captured:\n",
    "        # Use the TTS API to generate an audio file for the text\n",
    "        tts.tts_to_file(text=token,\n",
    "                        speaker=tts.speakers,\n",
    "                        language=tts.languages,\n",
    "                        file_path=filename\n",
    "                       )"
   ]
  },
  {
   "cell_type": "code",
   "execution_count": 9,
   "id": "db2ed40b",
   "metadata": {},
   "outputs": [],
   "source": [
    "# speed up audio track with pyrubberband\n",
    "def speed_up(speed,file_name):\n",
    "    y, sr = librosa.load(file_name, sr=None)\n",
    "    y_stretched = pyrubberband.time_stretch(y, sr, speed)\n",
    "    sf.write(file_name, y_stretched, sr, format='wav')"
   ]
  },
  {
   "cell_type": "code",
   "execution_count": 10,
   "id": "2eac4a2d",
   "metadata": {},
   "outputs": [],
   "source": [
    "def build_audio(token,speed):\n",
    "    # Set the file name for the audio file\n",
    "    file_name = \"TTS_next.wav\"\n",
    "    \n",
    "    # Generate an audio file for the current token\n",
    "    run_tts(token, file_name)\n",
    "\n",
    "    # Use the AudioSegment class to load the audio file\n",
    "    audio = AudioSegment.from_file(file_name)\n",
    "    \n",
    "    # Trim the audio file to remove blank trailing audio\n",
    "    try:\n",
    "        audio = audio[:-350]\n",
    "        \n",
    "        # Save the modified audio to a file\n",
    "        audio.export(file_name, format = 'wav')\n",
    "        \n",
    "        if speed > 1:\n",
    "            speed_up(speed,file_name)\n",
    "\n",
    "    except:\n",
    "        print('Audio too small to trim or speed up')\n",
    "        pass\n",
    "    \n",
    "    # Load the audio file\n",
    "    wave_obj = sa.WaveObject.from_wave_file(file_name)\n",
    "    \n",
    "    return wave_obj"
   ]
  },
  {
   "cell_type": "code",
   "execution_count": 11,
   "id": "39931fde",
   "metadata": {},
   "outputs": [],
   "source": [
    "def read_text(input_text, speed, stop_flag):\n",
    "    # Split the input text into a list of tokens with a maximum length of 200 characters\n",
    "    tokens = split_text(input_text, 300)\n",
    "    \n",
    "    out = Output()\n",
    "    display.display(out)\n",
    "    \n",
    "    # Iterate over each token and display a progress bar\n",
    "#     for token in tqdm(tokens):\n",
    "    total_tokens = len(tokens)\n",
    "    for token_id, token in enumerate(tokens):\n",
    "        \n",
    "    \n",
    "        \n",
    "            \n",
    "        wave_obj = build_audio(token,speed)\n",
    "\n",
    "        # If there is an audio thread currently playing, wait until it finishes before playing the new audio\n",
    "        if 'audio_thread' in locals():\n",
    "#             pause in loop while the last audio file is playing\n",
    "            while audio_thread.is_playing():\n",
    "                time.sleep(0.1)\n",
    "                # Check the stop flag\n",
    "                if stop_flag.is_set():\n",
    "                    audio_thread.stop()\n",
    "        \n",
    "\n",
    "        # Check the stop flag\n",
    "        if stop_flag.is_set():\n",
    "            # Break out of the loop if the stop flag is set\n",
    "            break\n",
    "\n",
    "        # Play the audio file\n",
    "        audio_thread = wave_obj.play()\n",
    "        update_tk_bar(token,token_id,total_tokens)\n",
    "#         print the current string\n",
    "#         print(token)\n",
    "    \n",
    "#     pause in loop while last audio thread is playing\n",
    "    if 'audio_thread' in locals():\n",
    "        while audio_thread.is_playing():\n",
    "            time.sleep(0.1)\n",
    "            # Check the stop flag\n",
    "            if stop_flag.is_set():\n",
    "                audio_thread.stop()\n",
    "    #     clear the loading bar and text\n",
    "#     clear_output()\n",
    "    finish()\n",
    "    update_tk_bar('',total_tokens,total_tokens)\n"
   ]
  },
  {
   "cell_type": "code",
   "execution_count": 12,
   "id": "9349657d",
   "metadata": {},
   "outputs": [],
   "source": [
    "# Create the stop flag\n",
    "stop_flag = threading.Event()\n",
    "reading_thread = threading.Thread()"
   ]
  },
  {
   "cell_type": "code",
   "execution_count": 13,
   "id": "000c3d04",
   "metadata": {},
   "outputs": [],
   "source": [
    "# Set the stop flag to stop the read_text function\n",
    "stop_flag.set()"
   ]
  },
  {
   "cell_type": "code",
   "execution_count": 14,
   "id": "79664149",
   "metadata": {},
   "outputs": [],
   "source": [
    "def copy_clipboard():\n",
    "#     grab the existing clipboard to return it later\n",
    "    existing_clip = pyperclip.paste()\n",
    "#     empty clipboard\n",
    "    pyperclip.copy('')\n",
    "#     copy new text\n",
    "    pya.hotkey('ctrl', 'c')\n",
    "#     sleep for a moment to make sure we have the text\n",
    "    time.sleep(0.1)\n",
    "#     if the clipboard is empty then select the above paragraph and use this instead,\n",
    "#  this only works if the text is editable\n",
    "    if pyperclip.paste() == '':\n",
    "#         print(\"Trying to auto select\")\n",
    "        pya.hotkey('ctrl', 'shift', 'up')\n",
    "        time.sleep(0.1)\n",
    "        pya.hotkey('ctrl', 'c')\n",
    "        time.sleep(0.1)\n",
    "        pya.hotkey('esc')\n",
    "    \n",
    "    if pyperclip.paste() == '':\n",
    "        return ('No text selected')\n",
    "    \n",
    "#     get selected text\n",
    "    captured_test = pyperclip.paste()\n",
    "#     return inital clipboard state\n",
    "    pyperclip.copy(existing_clip)\n",
    "        \n",
    "    return captured_test"
   ]
  },
  {
   "cell_type": "code",
   "execution_count": 15,
   "id": "0cceb36b",
   "metadata": {},
   "outputs": [],
   "source": [
    "def start_reading(speed):\n",
    "    update_tk_bar('Processing...',0,1)\n",
    "    \n",
    "    global stop_flag\n",
    "    global reading_thread\n",
    "    \n",
    "    if reading_thread.is_alive():\n",
    "        stop_flag.set()\n",
    "#         clear_output()\n",
    "        finish()\n",
    "    else:\n",
    "        stop_flag = threading.Event()\n",
    "        reading_thread = threading.Thread(target=read_text,args=[copy_clipboard(),speed,stop_flag])\n",
    "        reading_thread.start()"
   ]
  },
  {
   "cell_type": "code",
   "execution_count": 16,
   "id": "c8587175",
   "metadata": {},
   "outputs": [],
   "source": [
    "def on_press(key):\n",
    "    global reading_thread\n",
    "#     print(key)\n",
    "#     269025093 is F14\n",
    "    \n",
    "    if key == keyboard.KeyCode(269025093):\n",
    "        make_big()\n",
    "        start_reading(2)\n",
    "    \n"
   ]
  },
  {
   "cell_type": "code",
   "execution_count": 17,
   "id": "d6c0126f",
   "metadata": {
    "scrolled": true
   },
   "outputs": [],
   "source": [
    "listener_key = keyboard.Listener(on_press=on_press)\n",
    "listener_key.start()"
   ]
  },
  {
   "cell_type": "code",
   "execution_count": null,
   "id": "967f5587",
   "metadata": {},
   "outputs": [
    {
     "data": {
      "application/vnd.jupyter.widget-view+json": {
       "model_id": "cc7c4a3f1c25409182485a6344357a8a",
       "version_major": 2,
       "version_minor": 0
      },
      "text/plain": [
       "Output()"
      ]
     },
     "metadata": {},
     "output_type": "display_data"
    },
    {
     "data": {
      "application/vnd.jupyter.widget-view+json": {
       "model_id": "d6670f49968f4cbbb959981fa63234ea",
       "version_major": 2,
       "version_minor": 0
      },
      "text/plain": [
       "Output()"
      ]
     },
     "metadata": {},
     "output_type": "display_data"
    }
   ],
   "source": [
    "root.mainloop()"
   ]
  },
  {
   "cell_type": "code",
   "execution_count": null,
   "id": "8f2e2d71",
   "metadata": {},
   "outputs": [],
   "source": []
  },
  {
   "cell_type": "code",
   "execution_count": null,
   "id": "9c9e065e",
   "metadata": {},
   "outputs": [],
   "source": []
  },
  {
   "cell_type": "code",
   "execution_count": null,
   "id": "f9b27e62",
   "metadata": {},
   "outputs": [],
   "source": []
  }
 ],
 "metadata": {
  "kernelspec": {
   "display_name": "Python 3 (ipykernel)",
   "language": "python",
   "name": "python3"
  },
  "language_info": {
   "codemirror_mode": {
    "name": "ipython",
    "version": 3
   },
   "file_extension": ".py",
   "mimetype": "text/x-python",
   "name": "python",
   "nbconvert_exporter": "python",
   "pygments_lexer": "ipython3",
   "version": "3.10.8"
  }
 },
 "nbformat": 4,
 "nbformat_minor": 5
}
