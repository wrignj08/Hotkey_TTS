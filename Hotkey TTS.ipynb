{
 "cells": [
  {
   "cell_type": "code",
   "execution_count": null,
   "id": "02d800de",
   "metadata": {},
   "outputs": [],
   "source": [
    "# TTS and audio imports\n",
    "from TTS.api import TTS\n",
    "from pydub import AudioSegment\n",
    "# import wave\n",
    "import simpleaudio as sa\n",
    "import librosa\n",
    "import pyrubberband\n",
    "import soundfile as sf\n",
    "\n",
    "# Progress bar imports\n",
    "from tqdm.auto import tqdm\n",
    "\n",
    "# GUI, keyboard and clipboard imports\n",
    "import pyautogui as pya\n",
    "import pyperclip\n",
    "from pynput import keyboard\n",
    "\n",
    "# System imports\n",
    "from sys import platform\n",
    "import time\n",
    "import threading\n",
    "import textwrap\n",
    "import re"
   ]
  },
  {
   "cell_type": "code",
   "execution_count": null,
   "id": "8ce86f18",
   "metadata": {},
   "outputs": [],
   "source": [
    "# TTS.list_models()[8]"
   ]
  },
  {
   "cell_type": "code",
   "execution_count": null,
   "id": "56a31112",
   "metadata": {
    "scrolled": true
   },
   "outputs": [],
   "source": [
    "# load model on GPU if possible if not CPU\n",
    "try:\n",
    "    tts = TTS('tts_models/en/ljspeech/tacotron2-DDC_ph',gpu=True)\n",
    "except:\n",
    "    tts = TTS('tts_models/en/ljspeech/tacotron2-DDC_ph')"
   ]
  },
  {
   "cell_type": "code",
   "execution_count": null,
   "id": "e9d9ae93",
   "metadata": {},
   "outputs": [],
   "source": [
    "def split_text(input_text, max_length):\n",
    "    # Split the input text on periods and commas\n",
    "    smaller_chunks = re.split(r'[.,]', input_text)\n",
    "    # apply the textwrap.wrap function to each chunk\n",
    "    smaller_chunks = [textwrap.wrap(chunk, max_length, break_on_hyphens=True, break_long_words=True) for chunk in smaller_chunks]\n",
    "    \n",
    "    # Flatten the list of smaller chunks and append a period or comma to the end of each chunk that does not already end with a period or comma\n",
    "    smaller_chunks = [item + (item[-1] not in '.,' and '. ' or ' ') for sublist in smaller_chunks for item in sublist] \n",
    "            \n",
    "    # Return the list of smaller chunks\n",
    "    return smaller_chunks"
   ]
  },
  {
   "cell_type": "code",
   "execution_count": null,
   "id": "62c44fe6",
   "metadata": {},
   "outputs": [],
   "source": [
    "# Generate an audio file for the specified text and save it to the specified file\n",
    "def run_tts(token,filename):\n",
    "    # Use the TTS API to generate an audio file for the text\n",
    "    tts.tts_to_file(text=token,\n",
    "                    speaker=tts.speakers,\n",
    "                    language=tts.languages,\n",
    "                    file_path=filename)"
   ]
  },
  {
   "cell_type": "code",
   "execution_count": null,
   "id": "db2ed40b",
   "metadata": {},
   "outputs": [],
   "source": [
    "# speed up audio track with pyrubberband\n",
    "def speed_up(speed,file_name):\n",
    "    y, sr = librosa.load(file_name, sr=None)\n",
    "    y_stretched = pyrubberband.time_stretch(y, sr, speed)\n",
    "    sf.write(file_name, y_stretched, sr, format='wav')"
   ]
  },
  {
   "cell_type": "code",
   "execution_count": null,
   "id": "2eac4a2d",
   "metadata": {},
   "outputs": [],
   "source": [
    "def build_audio(token,speed):\n",
    "    # Set the file name for the audio file\n",
    "    file_name = \"TTS_next.wav\"\n",
    "    \n",
    "    # Generate an audio file for the current token\n",
    "    run_tts(token, file_name)\n",
    "\n",
    "    # Use the AudioSegment class to load the audio file\n",
    "    audio = AudioSegment.from_file(file_name)\n",
    "    \n",
    "    # Trim the audio file\n",
    "    try:\n",
    "        audio = audio[30:-350]\n",
    "        \n",
    "        # Save the modified audio to a file\n",
    "        audio.export(file_name, format = 'wav')\n",
    "        \n",
    "        if speed > 1:\n",
    "            speed_up(speed,file_name)\n",
    "\n",
    "    except:\n",
    "        print('Small audio track')\n",
    "    \n",
    "    # Load the audio file\n",
    "    wave_obj = sa.WaveObject.from_wave_file(file_name)\n",
    "    \n",
    "    return wave_obj"
   ]
  },
  {
   "cell_type": "code",
   "execution_count": null,
   "id": "39931fde",
   "metadata": {},
   "outputs": [],
   "source": [
    "def read_text(input_text, speed, stop_flag):\n",
    "    # Split the input text into a list of tokens with a maximum length of 200 characters\n",
    "    tokens = split_text(input_text, 300)\n",
    "    \n",
    "    # Iterate over each token\n",
    "    for token in tokens:\n",
    "       \n",
    "        wave_obj = build_audio(token,speed)\n",
    "\n",
    "        # If there is an audio thread currently playing, wait until it finishes before playing the new audio\n",
    "        if 'audio_thread' in locals():\n",
    "            while audio_thread.is_playing():\n",
    "                time.sleep(0.1)\n",
    "                # Check the stop flag\n",
    "                if stop_flag.is_set():\n",
    "                    audio_thread.stop()\n",
    "                    \n",
    "        # Check the stop flag\n",
    "        if stop_flag.is_set():\n",
    "            # Break out of the loop if the stop flag is set\n",
    "            break\n",
    "        \n",
    "        # Play the audio file\n",
    "        audio_thread = wave_obj.play()"
   ]
  },
  {
   "cell_type": "code",
   "execution_count": null,
   "id": "9349657d",
   "metadata": {},
   "outputs": [],
   "source": [
    "# Create the stop flag\n",
    "stop_flag = threading.Event()\n",
    "reading_thread = threading.Thread()"
   ]
  },
  {
   "cell_type": "code",
   "execution_count": null,
   "id": "000c3d04",
   "metadata": {},
   "outputs": [],
   "source": [
    "# Set the stop flag to stop the read_text function\n",
    "stop_flag.set()"
   ]
  },
  {
   "cell_type": "code",
   "execution_count": null,
   "id": "79664149",
   "metadata": {},
   "outputs": [],
   "source": [
    "def copy_clipboard():\n",
    "#     empty clipboard\n",
    "    pyperclip.copy('')\n",
    "#     copy new text\n",
    "    if platform == \"darwin\":\n",
    "        pya.hotkey('command', 'c')\n",
    "    else:\n",
    "        pya.hotkey('ctrl', 'c')\n",
    "        \n",
    "#     wait for the cliboard to change \n",
    "    max_wait_time = 0.5\n",
    "    wait_start_time = time.time_ns()\n",
    "    current_wait_time = 0\n",
    "    while max_wait_time < current_wait_time:\n",
    "        if pyperclip.paste() != '':\n",
    "            break\n",
    "        time.sleep(.01)\n",
    "        current_wait_time = time.time_ns() - wait_start_time\n",
    "        print(current_wait_time)\n",
    "    \n",
    "    return pyperclip.paste()"
   ]
  },
  {
   "cell_type": "code",
   "execution_count": null,
   "id": "0cceb36b",
   "metadata": {},
   "outputs": [],
   "source": [
    "def start_reading(speed):\n",
    "    \n",
    "    global stop_flag\n",
    "    global reading_thread\n",
    "    \n",
    "    if reading_thread.is_alive():\n",
    "        stop_flag.set()\n",
    "    else:\n",
    "        stop_flag = threading.Event()\n",
    "        reading_thread = threading.Thread(target=read_text,args=[copy_clipboard(),speed,stop_flag])\n",
    "        reading_thread.start()"
   ]
  },
  {
   "cell_type": "code",
   "execution_count": null,
   "id": "c8587175",
   "metadata": {},
   "outputs": [],
   "source": [
    "def on_press(key):\n",
    "    global reading_thread\n",
    "#     16777215 is kapslock\n",
    "    if key == keyboard.KeyCode(16777215):\n",
    "        start_reading(2)\n",
    "    \n",
    "    if key == keyboard.Key.esc:\n",
    "        print('STOPPED')\n",
    "        # Stop listener\n",
    "        return False\n"
   ]
  },
  {
   "cell_type": "code",
   "execution_count": null,
   "id": "d6c0126f",
   "metadata": {
    "scrolled": true
   },
   "outputs": [],
   "source": [
    "listener = keyboard.Listener(on_press=on_press)\n",
    "listener.start()"
   ]
  },
  {
   "cell_type": "code",
   "execution_count": null,
   "id": "234a4d44",
   "metadata": {},
   "outputs": [],
   "source": []
  },
  {
   "cell_type": "code",
   "execution_count": null,
   "id": "a74e358f",
   "metadata": {},
   "outputs": [],
   "source": []
  }
 ],
 "metadata": {
  "kernelspec": {
   "display_name": "Python 3 (ipykernel)",
   "language": "python",
   "name": "python3"
  },
  "language_info": {
   "codemirror_mode": {
    "name": "ipython",
    "version": 3
   },
   "file_extension": ".py",
   "mimetype": "text/x-python",
   "name": "python",
   "nbconvert_exporter": "python",
   "pygments_lexer": "ipython3",
   "version": "3.10.8"
  }
 },
 "nbformat": 4,
 "nbformat_minor": 5
}
